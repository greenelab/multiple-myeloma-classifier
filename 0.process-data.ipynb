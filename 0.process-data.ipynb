{
 "cells": [
  {
   "cell_type": "markdown",
   "metadata": {},
   "source": [
    "# Process CoMMpass Data\n",
    "\n",
    "In the following notebook, we process input matrices for downstream machine learning applications.\n",
    "\n",
    "We first calculate and visualize the per gene variability in the CoMMpass gene expression dataset.\n",
    "We use Median Absolute Deviation ([MAD](https://en.wikipedia.org/wiki/median_absolute_deviation)) to measure gene expression variability.\n",
    "We output this measurement to a file and recommend subsetting to 8,000 genes before input to machine learning models. This captures the majority of the variation in the data in raw gene space. This is a similar observation as seen previously in other experiments (see [Way et al. 2018](https://doi.org/10.1016/j.celrep.2018.03.046 \"Machine Learning Detects Pan-cancer Ras Pathway Activation in The Cancer Genome Atlas\") and [this discussion](https://github.com/cognoma/machine-learning/pull/18#issuecomment-236265506)).\n",
    "\n",
    "We next subset the training and testing X matrices by these MAD genes and scale their measurements to a range of (0,1) by gene. We also process Y matrices into an `sklearn` ingestible format. Importantly, we process the dual Ras mutated samples (~3%) separately."
   ]
  },
  {
   "cell_type": "code",
   "execution_count": 1,
   "metadata": {},
   "outputs": [],
   "source": [
    "import os\n",
    "import pandas as pd\n",
    "\n",
    "from statsmodels.robust.scale import mad\n",
    "from sklearn.preprocessing import MinMaxScaler\n",
    "\n",
    "import matplotlib.pyplot as plt\n",
    "import seaborn as sns"
   ]
  },
  {
   "cell_type": "code",
   "execution_count": 2,
   "metadata": {},
   "outputs": [],
   "source": [
    "%matplotlib inline"
   ]
  },
  {
   "cell_type": "code",
   "execution_count": 3,
   "metadata": {},
   "outputs": [],
   "source": [
    "num_genes = 8000"
   ]
  },
  {
   "cell_type": "markdown",
   "metadata": {},
   "source": [
    "## Load and Subset Training X Matrix\n",
    "\n",
    "Input to sklearn classifiers requires data to be in a bit different format than what was provided."
   ]
  },
  {
   "cell_type": "code",
   "execution_count": 4,
   "metadata": {},
   "outputs": [
    {
     "name": "stdout",
     "output_type": "stream",
     "text": [
      "(58095, 706)\n"
     ]
    }
   ],
   "source": [
    "# Load the CoMMpass Training Data\n",
    "file = os.path.join('data', 'raw', 'CoMMpass_train_set.csv')\n",
    "train_df = pd.read_csv(file, index_col=0).drop(\"Location\", axis='columns')\n",
    "print(train_df.shape)"
   ]
  },
  {
   "cell_type": "code",
   "execution_count": 5,
   "metadata": {},
   "outputs": [
    {
     "name": "stdout",
     "output_type": "stream",
     "text": [
      "(57981, 706)\n"
     ]
    },
    {
     "data": {
      "text/html": [
       "<div>\n",
       "<style scoped>\n",
       "    .dataframe tbody tr th:only-of-type {\n",
       "        vertical-align: middle;\n",
       "    }\n",
       "\n",
       "    .dataframe tbody tr th {\n",
       "        vertical-align: top;\n",
       "    }\n",
       "\n",
       "    .dataframe thead th {\n",
       "        text-align: right;\n",
       "    }\n",
       "</style>\n",
       "<table border=\"1\" class=\"dataframe\">\n",
       "  <thead>\n",
       "    <tr style=\"text-align: right;\">\n",
       "      <th></th>\n",
       "      <th>MMRF_1838_3_BM</th>\n",
       "      <th>MMRF_1201_4_BM</th>\n",
       "      <th>MMRF_2215_1_BM</th>\n",
       "      <th>MMRF_2728_1_BM</th>\n",
       "      <th>MMRF_1686_2_BM</th>\n",
       "      <th>MMRF_1331_1_BM</th>\n",
       "      <th>MMRF_2621_1_BM</th>\n",
       "      <th>MMRF_2437_1_BM</th>\n",
       "      <th>MMRF_1151_1_BM</th>\n",
       "      <th>MMRF_1286_1_BM</th>\n",
       "      <th>...</th>\n",
       "      <th>MMRF_1512_1_BM</th>\n",
       "      <th>MMRF_2538_1_BM</th>\n",
       "      <th>MMRF_2531_1_PB</th>\n",
       "      <th>MMRF_1640_1_BM</th>\n",
       "      <th>MMRF_1180_1_BM</th>\n",
       "      <th>MMRF_2335_1_BM</th>\n",
       "      <th>MMRF_2286_1_BM</th>\n",
       "      <th>MMRF_2229_1_BM</th>\n",
       "      <th>MMRF_2721_1_BM</th>\n",
       "      <th>MMRF_1157_1_BM</th>\n",
       "    </tr>\n",
       "    <tr>\n",
       "      <th>GENE_ID</th>\n",
       "      <th></th>\n",
       "      <th></th>\n",
       "      <th></th>\n",
       "      <th></th>\n",
       "      <th></th>\n",
       "      <th></th>\n",
       "      <th></th>\n",
       "      <th></th>\n",
       "      <th></th>\n",
       "      <th></th>\n",
       "      <th></th>\n",
       "      <th></th>\n",
       "      <th></th>\n",
       "      <th></th>\n",
       "      <th></th>\n",
       "      <th></th>\n",
       "      <th></th>\n",
       "      <th></th>\n",
       "      <th></th>\n",
       "      <th></th>\n",
       "      <th></th>\n",
       "    </tr>\n",
       "  </thead>\n",
       "  <tbody>\n",
       "    <tr>\n",
       "      <th>ENSG00000166710</th>\n",
       "      <td>33040.90</td>\n",
       "      <td>14235.50</td>\n",
       "      <td>27410.00</td>\n",
       "      <td>24222.3</td>\n",
       "      <td>0.00</td>\n",
       "      <td>21585.00</td>\n",
       "      <td>19990.20</td>\n",
       "      <td>33409.60</td>\n",
       "      <td>8422.96</td>\n",
       "      <td>10193.30</td>\n",
       "      <td>...</td>\n",
       "      <td>26661.50</td>\n",
       "      <td>30116.70</td>\n",
       "      <td>24858.30</td>\n",
       "      <td>30336.30</td>\n",
       "      <td>16150.60</td>\n",
       "      <td>26628.60</td>\n",
       "      <td>46538.30</td>\n",
       "      <td>33028.30</td>\n",
       "      <td>11548.50</td>\n",
       "      <td>8063.93</td>\n",
       "    </tr>\n",
       "    <tr>\n",
       "      <th>ENSG00000105372</th>\n",
       "      <td>2756.69</td>\n",
       "      <td>2755.64</td>\n",
       "      <td>4459.72</td>\n",
       "      <td>9169.9</td>\n",
       "      <td>8584.99</td>\n",
       "      <td>6823.48</td>\n",
       "      <td>3515.27</td>\n",
       "      <td>1685.43</td>\n",
       "      <td>3667.90</td>\n",
       "      <td>2431.43</td>\n",
       "      <td>...</td>\n",
       "      <td>6283.13</td>\n",
       "      <td>1451.76</td>\n",
       "      <td>1433.19</td>\n",
       "      <td>6924.21</td>\n",
       "      <td>2841.25</td>\n",
       "      <td>7705.66</td>\n",
       "      <td>5577.79</td>\n",
       "      <td>3134.72</td>\n",
       "      <td>7297.68</td>\n",
       "      <td>1393.83</td>\n",
       "    </tr>\n",
       "  </tbody>\n",
       "</table>\n",
       "<p>2 rows × 706 columns</p>\n",
       "</div>"
      ],
      "text/plain": [
       "                 MMRF_1838_3_BM  MMRF_1201_4_BM  MMRF_2215_1_BM  \\\n",
       "GENE_ID                                                           \n",
       "ENSG00000166710        33040.90        14235.50        27410.00   \n",
       "ENSG00000105372         2756.69         2755.64         4459.72   \n",
       "\n",
       "                 MMRF_2728_1_BM  MMRF_1686_2_BM  MMRF_1331_1_BM  \\\n",
       "GENE_ID                                                           \n",
       "ENSG00000166710         24222.3            0.00        21585.00   \n",
       "ENSG00000105372          9169.9         8584.99         6823.48   \n",
       "\n",
       "                 MMRF_2621_1_BM  MMRF_2437_1_BM  MMRF_1151_1_BM  \\\n",
       "GENE_ID                                                           \n",
       "ENSG00000166710        19990.20        33409.60         8422.96   \n",
       "ENSG00000105372         3515.27         1685.43         3667.90   \n",
       "\n",
       "                 MMRF_1286_1_BM       ...        MMRF_1512_1_BM  \\\n",
       "GENE_ID                               ...                         \n",
       "ENSG00000166710        10193.30       ...              26661.50   \n",
       "ENSG00000105372         2431.43       ...               6283.13   \n",
       "\n",
       "                 MMRF_2538_1_BM  MMRF_2531_1_PB  MMRF_1640_1_BM  \\\n",
       "GENE_ID                                                           \n",
       "ENSG00000166710        30116.70        24858.30        30336.30   \n",
       "ENSG00000105372         1451.76         1433.19         6924.21   \n",
       "\n",
       "                 MMRF_1180_1_BM  MMRF_2335_1_BM  MMRF_2286_1_BM  \\\n",
       "GENE_ID                                                           \n",
       "ENSG00000166710        16150.60        26628.60        46538.30   \n",
       "ENSG00000105372         2841.25         7705.66         5577.79   \n",
       "\n",
       "                 MMRF_2229_1_BM  MMRF_2721_1_BM  MMRF_1157_1_BM  \n",
       "GENE_ID                                                          \n",
       "ENSG00000166710        33028.30        11548.50         8063.93  \n",
       "ENSG00000105372         3134.72         7297.68         1393.83  \n",
       "\n",
       "[2 rows x 706 columns]"
      ]
     },
     "execution_count": 5,
     "metadata": {},
     "output_type": "execute_result"
    }
   ],
   "source": [
    "# Reorder genes based on MAD and retain higher variable genes\n",
    "train_df = (\n",
    "    train_df\n",
    "    .assign(mad_genes = mad(train_df, axis=1))\n",
    "    .sort_values(by='mad_genes', ascending=False)\n",
    "    .drop('mad_genes', axis='columns')\n",
    ")\n",
    "\n",
    "# Remove duplicate ENSEMBL genes - retain genes with higher variability\n",
    "train_df = train_df[~train_df.index.duplicated(keep='first')]\n",
    "\n",
    "print(train_df.shape)\n",
    "train_df.head(2)"
   ]
  },
  {
   "cell_type": "markdown",
   "metadata": {},
   "source": [
    "### Explore the variability of gene expression in the training set"
   ]
  },
  {
   "cell_type": "code",
   "execution_count": 6,
   "metadata": {},
   "outputs": [
    {
     "data": {
      "text/plain": [
       "True     32084\n",
       "False    25897\n",
       "Name: mad_genes, dtype: int64"
      ]
     },
     "execution_count": 6,
     "metadata": {},
     "output_type": "execute_result"
    }
   ],
   "source": [
    "# Get MAD genes again and sort\n",
    "mad_genes = mad(train_df, axis=1)\n",
    "\n",
    "mad_gene_df = (\n",
    "    pd.DataFrame(mad_genes, index=train_df.index, columns=['mad_genes'])\n",
    "    .sort_values(by='mad_genes', ascending=False)\n",
    ")\n",
    "\n",
    "# How many genes have no variance\n",
    "(mad_gene_df['mad_genes'] == 0).value_counts()"
   ]
  },
  {
   "cell_type": "code",
   "execution_count": 7,
   "metadata": {},
   "outputs": [
    {
     "name": "stdout",
     "output_type": "stream",
     "text": [
      "(25897, 1)\n"
     ]
    }
   ],
   "source": [
    "# Remove genes lacking variance\n",
    "mad_gene_df = mad_gene_df.query(\"mad_genes > 0\")\n",
    "print(mad_gene_df.shape)"
   ]
  },
  {
   "cell_type": "code",
   "execution_count": 8,
   "metadata": {},
   "outputs": [
    {
     "data": {
      "text/html": [
       "<div>\n",
       "<style scoped>\n",
       "    .dataframe tbody tr th:only-of-type {\n",
       "        vertical-align: middle;\n",
       "    }\n",
       "\n",
       "    .dataframe tbody tr th {\n",
       "        vertical-align: top;\n",
       "    }\n",
       "\n",
       "    .dataframe thead th {\n",
       "        text-align: right;\n",
       "    }\n",
       "</style>\n",
       "<table border=\"1\" class=\"dataframe\">\n",
       "  <thead>\n",
       "    <tr style=\"text-align: right;\">\n",
       "      <th></th>\n",
       "      <th>mad_genes</th>\n",
       "    </tr>\n",
       "    <tr>\n",
       "      <th>GENE_ID</th>\n",
       "      <th></th>\n",
       "    </tr>\n",
       "  </thead>\n",
       "  <tbody>\n",
       "    <tr>\n",
       "      <th>ENSG00000166710</th>\n",
       "      <td>9673.312305</td>\n",
       "    </tr>\n",
       "    <tr>\n",
       "      <th>ENSG00000105372</th>\n",
       "      <td>2387.805003</td>\n",
       "    </tr>\n",
       "    <tr>\n",
       "      <th>ENSG00000177954</th>\n",
       "      <td>2369.657952</td>\n",
       "    </tr>\n",
       "    <tr>\n",
       "      <th>ENSG00000231500</th>\n",
       "      <td>2332.088812</td>\n",
       "    </tr>\n",
       "    <tr>\n",
       "      <th>ENSG00000133112</th>\n",
       "      <td>2233.792285</td>\n",
       "    </tr>\n",
       "  </tbody>\n",
       "</table>\n",
       "</div>"
      ],
      "text/plain": [
       "                   mad_genes\n",
       "GENE_ID                     \n",
       "ENSG00000166710  9673.312305\n",
       "ENSG00000105372  2387.805003\n",
       "ENSG00000177954  2369.657952\n",
       "ENSG00000231500  2332.088812\n",
       "ENSG00000133112  2233.792285"
      ]
     },
     "execution_count": 8,
     "metadata": {},
     "output_type": "execute_result"
    }
   ],
   "source": [
    "mad_gene_df.head()"
   ]
  },
  {
   "cell_type": "markdown",
   "metadata": {},
   "source": [
    "It looks like the highest variable gene is a large outlier\n",
    "The gene is [B2M](http://useast.ensembl.org/Homo_sapiens/Gene/Summary?g=ENSG00000166710;r=15:44711477-44718877)."
   ]
  },
  {
   "cell_type": "code",
   "execution_count": 9,
   "metadata": {},
   "outputs": [
    {
     "name": "stderr",
     "output_type": "stream",
     "text": [
      "/home/greg/anaconda3/envs/multiple-myeloma-classifier/lib/python3.5/site-packages/matplotlib/axes/_axes.py:6462: UserWarning: The 'normed' kwarg is deprecated, and has been replaced by the 'density' kwarg.\n",
      "  warnings.warn(\"The 'normed' kwarg is deprecated, and has been \"\n"
     ]
    },
    {
     "data": {
      "image/png": "[encoded data removed]",
      "text/plain": [
       "<Figure size 432x288 with 1 Axes>"
      ]
     },
     "metadata": {},
     "output_type": "display_data"
    }
   ],
   "source": [
    "# Distribution of gene expression variability even after removing zeros\n",
    "sns.distplot(mad_gene_df['mad_genes']);"
   ]
  },
  {
   "cell_type": "code",
   "execution_count": 10,
   "metadata": {},
   "outputs": [
    {
     "name": "stderr",
     "output_type": "stream",
     "text": [
      "/home/greg/anaconda3/envs/multiple-myeloma-classifier/lib/python3.5/site-packages/matplotlib/axes/_axes.py:6462: UserWarning: The 'normed' kwarg is deprecated, and has been replaced by the 'density' kwarg.\n",
      "  warnings.warn(\"The 'normed' kwarg is deprecated, and has been \"\n"
     ]
    },
    {
     "data": {
      "image/png": "[encoded data removed]",
      "text/plain": [
       "<Figure size 432x288 with 1 Axes>"
      ]
     },
     "metadata": {},
     "output_type": "display_data"
    }
   ],
   "source": [
    "# Distribution of genes with high gene expression variability\n",
    "sns.distplot(mad_gene_df.query(\"mad_genes > 100\")['mad_genes']);"
   ]
  },
  {
   "cell_type": "code",
   "execution_count": 11,
   "metadata": {},
   "outputs": [],
   "source": [
    "# Get the proportion of total MAD variance for each gene\n",
    "total_mad = mad_gene_df['mad_genes'].sum()\n",
    "mad_gene_df = (\n",
    "    mad_gene_df\n",
    "    .assign(variance_proportion = mad_gene_df['mad_genes'].cumsum() / total_mad)\n",
    ")"
   ]
  },
  {
   "cell_type": "code",
   "execution_count": 12,
   "metadata": {},
   "outputs": [
    {
     "data": {
      "image/png": "[encoded data removed]",
      "text/plain": [
       "<Figure size 432x288 with 1 Axes>"
      ]
     },
     "metadata": {},
     "output_type": "display_data"
    }
   ],
   "source": [
    "# Visualize the proportion of MAD variance against all non-zero genes\n",
    "sns.regplot(x='index',\n",
    "            y='variance_proportion',\n",
    "            ci=None,\n",
    "            fit_reg=False,\n",
    "            data=mad_gene_df.reset_index().reset_index())\n",
    "plt.xlabel('Number of Genes')\n",
    "plt.ylabel('Proportion of Variance')\n",
    "plt.axvline(x=5000, color='r', linestyle='--')\n",
    "plt.axvline(x=10000, color='r', linestyle='--')\n",
    "plt.axvline(x=num_genes, color='g', linestyle='--');"
   ]
  },
  {
   "cell_type": "code",
   "execution_count": 13,
   "metadata": {},
   "outputs": [
    {
     "name": "stderr",
     "output_type": "stream",
     "text": [
      "/home/greg/anaconda3/envs/multiple-myeloma-classifier/lib/python3.5/site-packages/pandas/core/indexing.py:194: SettingWithCopyWarning: \n",
      "A value is trying to be set on a copy of a slice from a DataFrame\n",
      "\n",
      "See the caveats in the documentation: http://pandas.pydata.org/pandas-docs/stable/indexing.html#indexing-view-versus-copy\n",
      "  self._setitem_with_indexer(indexer, value)\n"
     ]
    },
    {
     "data": {
      "text/html": [
       "<div>\n",
       "<style scoped>\n",
       "    .dataframe tbody tr th:only-of-type {\n",
       "        vertical-align: middle;\n",
       "    }\n",
       "\n",
       "    .dataframe tbody tr th {\n",
       "        vertical-align: top;\n",
       "    }\n",
       "\n",
       "    .dataframe thead th {\n",
       "        text-align: right;\n",
       "    }\n",
       "</style>\n",
       "<table border=\"1\" class=\"dataframe\">\n",
       "  <thead>\n",
       "    <tr style=\"text-align: right;\">\n",
       "      <th></th>\n",
       "      <th>mad_genes</th>\n",
       "      <th>variance_proportion</th>\n",
       "      <th>use_in_classifier</th>\n",
       "    </tr>\n",
       "    <tr>\n",
       "      <th>GENE_ID</th>\n",
       "      <th></th>\n",
       "      <th></th>\n",
       "      <th></th>\n",
       "    </tr>\n",
       "  </thead>\n",
       "  <tbody>\n",
       "    <tr>\n",
       "      <th>ENSG00000166710</th>\n",
       "      <td>9673.312305</td>\n",
       "      <td>0.036899</td>\n",
       "      <td>1</td>\n",
       "    </tr>\n",
       "    <tr>\n",
       "      <th>ENSG00000105372</th>\n",
       "      <td>2387.805003</td>\n",
       "      <td>0.046008</td>\n",
       "      <td>1</td>\n",
       "    </tr>\n",
       "    <tr>\n",
       "      <th>ENSG00000177954</th>\n",
       "      <td>2369.657952</td>\n",
       "      <td>0.055047</td>\n",
       "      <td>1</td>\n",
       "    </tr>\n",
       "    <tr>\n",
       "      <th>ENSG00000231500</th>\n",
       "      <td>2332.088812</td>\n",
       "      <td>0.063943</td>\n",
       "      <td>1</td>\n",
       "    </tr>\n",
       "    <tr>\n",
       "      <th>ENSG00000133112</th>\n",
       "      <td>2233.792285</td>\n",
       "      <td>0.072464</td>\n",
       "      <td>1</td>\n",
       "    </tr>\n",
       "  </tbody>\n",
       "</table>\n",
       "</div>"
      ],
      "text/plain": [
       "                   mad_genes  variance_proportion  use_in_classifier\n",
       "GENE_ID                                                             \n",
       "ENSG00000166710  9673.312305             0.036899                  1\n",
       "ENSG00000105372  2387.805003             0.046008                  1\n",
       "ENSG00000177954  2369.657952             0.055047                  1\n",
       "ENSG00000231500  2332.088812             0.063943                  1\n",
       "ENSG00000133112  2233.792285             0.072464                  1"
      ]
     },
     "execution_count": 13,
     "metadata": {},
     "output_type": "execute_result"
    }
   ],
   "source": [
    "# Use only the top `num_genes` in the classifier\n",
    "mad_gene_df = mad_gene_df.assign(use_in_classifier = 0)\n",
    "mad_gene_df['use_in_classifier'].iloc[range(0, num_genes)] = 1\n",
    "mad_gene_df.head()"
   ]
  },
  {
   "cell_type": "code",
   "execution_count": 14,
   "metadata": {},
   "outputs": [],
   "source": [
    "# Write to file\n",
    "file = os.path.join('data', 'mad_genes.tsv')\n",
    "mad_gene_df.to_csv(file, sep='\\t')"
   ]
  },
  {
   "cell_type": "markdown",
   "metadata": {},
   "source": [
    "### Subset and Scale Training X Matrix"
   ]
  },
  {
   "cell_type": "code",
   "execution_count": 15,
   "metadata": {},
   "outputs": [],
   "source": [
    "use_genes = mad_gene_df.query('use_in_classifier == 1')"
   ]
  },
  {
   "cell_type": "code",
   "execution_count": 16,
   "metadata": {},
   "outputs": [
    {
     "name": "stdout",
     "output_type": "stream",
     "text": [
      "(706, 8000)\n"
     ]
    }
   ],
   "source": [
    "train_df = (\n",
    "    train_df\n",
    "    .reindex(use_genes.index)\n",
    "    .sort_index(axis='columns')\n",
    "    .sort_index(axis='rows')\n",
    "    .transpose()\n",
    ")\n",
    "\n",
    "\n",
    "# Scale between range of (0, 1) by gene\n",
    "# matrix must be sample x gene\n",
    "fitted_scaler = MinMaxScaler().fit(train_df)\n",
    "train_df = pd.DataFrame(fitted_scaler.transform(train_df),\n",
    "                        columns=train_df.columns,\n",
    "                        index=train_df.index)\n",
    "\n",
    "print(train_df.shape)"
   ]
  },
  {
   "cell_type": "code",
   "execution_count": 17,
   "metadata": {},
   "outputs": [],
   "source": [
    "# Output Training X Matrix\n",
    "file = os.path.join('data', 'compass_x_train.tsv.gz')\n",
    "train_df.to_csv(file, compression='gzip', sep='\\t')"
   ]
  },
  {
   "cell_type": "markdown",
   "metadata": {},
   "source": [
    "## Load and Process Testing X Matrix\n",
    "\n",
    "**Note that the testing matrix includes samples with both _KRAS_ and _NRAS_ mutations.**\n",
    "\n",
    "Remove these samples from the testing matrix and set aside for a separate test phase.\n",
    "\n",
    "\n",
    "The X matrix is written to file _after_ processing the Y matrix in order to separate dual _KRAS_/_NRAS_ samples from processing."
   ]
  },
  {
   "cell_type": "code",
   "execution_count": 18,
   "metadata": {},
   "outputs": [
    {
     "name": "stdout",
     "output_type": "stream",
     "text": [
      "(106, 8000)\n"
     ]
    }
   ],
   "source": [
    "# Load and process test data\n",
    "file = os.path.join('data', 'raw', 'CoMMpass_test_set.csv')\n",
    "test_df = pd.read_csv(file, index_col=0).drop(\"Location\", axis='columns')\n",
    "\n",
    "# Reorder genes based on MAD and retain higher variable genes\n",
    "test_df = (\n",
    "    test_df\n",
    "    .assign(mad_genes = mad(test_df, axis=1))\n",
    "    .sort_values(by='mad_genes', ascending=False)\n",
    "    .drop('mad_genes', axis='columns')\n",
    ")\n",
    "\n",
    "# Remove duplicate ENSEMBL genes - retain genes with higher variability\n",
    "test_df = test_df[~test_df.index.duplicated(keep='first')]\n",
    "\n",
    "test_df = (\n",
    "    test_df.reindex(use_genes.index)\n",
    "    .sort_index(axis='columns')\n",
    "    .sort_index(axis='rows')\n",
    "    .transpose()\n",
    ")\n",
    "\n",
    "print(test_df.shape)"
   ]
  },
  {
   "cell_type": "code",
   "execution_count": 19,
   "metadata": {},
   "outputs": [],
   "source": [
    "# Confirm that the genes are the same between training and testing\n",
    "assert (test_df.columns == train_df.columns).all(), 'The genes between training and testing are not aligned!'"
   ]
  },
  {
   "cell_type": "markdown",
   "metadata": {},
   "source": [
    "## Process Y Matrices\n",
    "\n",
    "The Y represents mutation status for samples. \n",
    "\n",
    "Note that there are 26 samples (3.2%) that have dual _KRAS_ and _NRAS_ mutations. Split these samples into a different X and Y matrices.\n",
    "\n",
    "Also, sklearn expects a single array of values for multiclass classifiers. Set the following assignments:\n",
    "\n",
    "| Mutation | Assignment |\n",
    "| -------- | ---------- |\n",
    "| Wild-type | 0 |\n",
    "| _KRAS_ | 1 |\n",
    "| _NRAS_ | 2 |"
   ]
  },
  {
   "cell_type": "markdown",
   "metadata": {},
   "source": [
    "### Training Y Matrix"
   ]
  },
  {
   "cell_type": "code",
   "execution_count": 20,
   "metadata": {},
   "outputs": [
    {
     "name": "stdout",
     "output_type": "stream",
     "text": [
      "KRAS_mut        138\n",
      "NRAS_mut        129\n",
      "dual_RAS_mut      0\n",
      "dtype: int64\n"
     ]
    },
    {
     "data": {
      "text/html": [
       "<div>\n",
       "<style scoped>\n",
       "    .dataframe tbody tr th:only-of-type {\n",
       "        vertical-align: middle;\n",
       "    }\n",
       "\n",
       "    .dataframe tbody tr th {\n",
       "        vertical-align: top;\n",
       "    }\n",
       "\n",
       "    .dataframe thead th {\n",
       "        text-align: right;\n",
       "    }\n",
       "</style>\n",
       "<table border=\"1\" class=\"dataframe\">\n",
       "  <thead>\n",
       "    <tr style=\"text-align: right;\">\n",
       "      <th></th>\n",
       "      <th>KRAS_mut</th>\n",
       "      <th>NRAS_mut</th>\n",
       "      <th>dual_RAS_mut</th>\n",
       "    </tr>\n",
       "  </thead>\n",
       "  <tbody>\n",
       "    <tr>\n",
       "      <th>MMRF_1021_1_BM</th>\n",
       "      <td>1</td>\n",
       "      <td>0</td>\n",
       "      <td>0</td>\n",
       "    </tr>\n",
       "    <tr>\n",
       "      <th>MMRF_1024_2_BM</th>\n",
       "      <td>0</td>\n",
       "      <td>0</td>\n",
       "      <td>0</td>\n",
       "    </tr>\n",
       "  </tbody>\n",
       "</table>\n",
       "</div>"
      ],
      "text/plain": [
       "                KRAS_mut  NRAS_mut  dual_RAS_mut\n",
       "MMRF_1021_1_BM         1         0             0\n",
       "MMRF_1024_2_BM         0         0             0"
      ]
     },
     "execution_count": 20,
     "metadata": {},
     "output_type": "execute_result"
    }
   ],
   "source": [
    "# Load the training labels from the Y matrix\n",
    "file = os.path.join('data', 'raw', 'CoMMpass_train_set_labels.csv')\n",
    "y_train_df = pd.read_csv(file, index_col=0)\n",
    "\n",
    "y_train_df = (\n",
    "    y_train_df\n",
    "    .reindex(train_df.index)\n",
    "    .astype(int)\n",
    ")\n",
    "\n",
    "print(y_train_df.sum())\n",
    "y_train_df.head(2)"
   ]
  },
  {
   "cell_type": "code",
   "execution_count": 21,
   "metadata": {},
   "outputs": [
    {
     "data": {
      "text/plain": [
       "KRAS_mut        0.195467\n",
       "NRAS_mut        0.182720\n",
       "dual_RAS_mut    0.000000\n",
       "dtype: float64"
      ]
     },
     "execution_count": 21,
     "metadata": {},
     "output_type": "execute_result"
    }
   ],
   "source": [
    "# Observe the proportion of KRAS/NRAS mutations in the training set\n",
    "y_train_df.sum() / y_train_df.shape[0]"
   ]
  },
  {
   "cell_type": "code",
   "execution_count": 22,
   "metadata": {},
   "outputs": [],
   "source": [
    "# sklearn expects a single column with classes separate 0, 1, 2\n",
    "# Set NRAS mutations equal to 2\n",
    "y_train_df.loc[y_train_df['NRAS_mut'] == 1, 'KRAS_mut'] = 2\n",
    "\n",
    "y_train_df = y_train_df.drop(['NRAS_mut', 'dual_RAS_mut'], axis='columns')\n",
    "y_train_df.columns = ['ras_status']"
   ]
  },
  {
   "cell_type": "code",
   "execution_count": 23,
   "metadata": {},
   "outputs": [],
   "source": [
    "# Confirm that the samples are the same between training and testing\n",
    "assert (y_train_df.index == train_df.index).all(), 'The samples between X and Y training matrices are not aligned!'"
   ]
  },
  {
   "cell_type": "code",
   "execution_count": 24,
   "metadata": {},
   "outputs": [],
   "source": [
    "file = os.path.join('data', 'compass_y_train.tsv')\n",
    "y_train_df.to_csv(file, sep='\\t')"
   ]
  },
  {
   "cell_type": "markdown",
   "metadata": {},
   "source": [
    "### Testing Y Matrix"
   ]
  },
  {
   "cell_type": "code",
   "execution_count": 25,
   "metadata": {},
   "outputs": [
    {
     "data": {
      "text/html": [
       "<div>\n",
       "<style scoped>\n",
       "    .dataframe tbody tr th:only-of-type {\n",
       "        vertical-align: middle;\n",
       "    }\n",
       "\n",
       "    .dataframe tbody tr th {\n",
       "        vertical-align: top;\n",
       "    }\n",
       "\n",
       "    .dataframe thead th {\n",
       "        text-align: right;\n",
       "    }\n",
       "</style>\n",
       "<table border=\"1\" class=\"dataframe\">\n",
       "  <thead>\n",
       "    <tr style=\"text-align: right;\">\n",
       "      <th></th>\n",
       "      <th>KRAS_mut</th>\n",
       "      <th>NRAS_mut</th>\n",
       "      <th>dual_RAS_mut</th>\n",
       "    </tr>\n",
       "  </thead>\n",
       "  <tbody>\n",
       "    <tr>\n",
       "      <th>MMRF_1031_1_BM</th>\n",
       "      <td>0</td>\n",
       "      <td>0</td>\n",
       "      <td>0</td>\n",
       "    </tr>\n",
       "    <tr>\n",
       "      <th>MMRF_1061_3_BM</th>\n",
       "      <td>0</td>\n",
       "      <td>1</td>\n",
       "      <td>0</td>\n",
       "    </tr>\n",
       "    <tr>\n",
       "      <th>MMRF_1077_1_BM</th>\n",
       "      <td>0</td>\n",
       "      <td>0</td>\n",
       "      <td>0</td>\n",
       "    </tr>\n",
       "  </tbody>\n",
       "</table>\n",
       "</div>"
      ],
      "text/plain": [
       "                KRAS_mut  NRAS_mut  dual_RAS_mut\n",
       "MMRF_1031_1_BM         0         0             0\n",
       "MMRF_1061_3_BM         0         1             0\n",
       "MMRF_1077_1_BM         0         0             0"
      ]
     },
     "execution_count": 25,
     "metadata": {},
     "output_type": "execute_result"
    }
   ],
   "source": [
    "file = os.path.join('data', 'raw', 'CoMMpass_test_set_labels.csv')\n",
    "y_test_df = pd.read_csv(file, index_col=0)\n",
    "\n",
    "y_test_df = (\n",
    "    y_test_df\n",
    "    .reindex(test_df.index)\n",
    "    .astype(int)\n",
    ")\n",
    "\n",
    "y_test_df.head(3)"
   ]
  },
  {
   "cell_type": "markdown",
   "metadata": {},
   "source": [
    "####  Split off dual Ras from normal testing"
   ]
  },
  {
   "cell_type": "code",
   "execution_count": 26,
   "metadata": {},
   "outputs": [
    {
     "name": "stdout",
     "output_type": "stream",
     "text": [
      "(26, 3)\n",
      "(80, 3)\n"
     ]
    }
   ],
   "source": [
    "y_dual_df = y_test_df.query('dual_RAS_mut == 1')\n",
    "y_test_df = y_test_df.query('dual_RAS_mut == 0')\n",
    "\n",
    "print(y_dual_df.shape)\n",
    "print(y_test_df.shape)"
   ]
  },
  {
   "cell_type": "code",
   "execution_count": 27,
   "metadata": {},
   "outputs": [
    {
     "data": {
      "text/plain": [
       "KRAS_mut        16\n",
       "NRAS_mut        15\n",
       "dual_RAS_mut     0\n",
       "dtype: int64"
      ]
     },
     "execution_count": 27,
     "metadata": {},
     "output_type": "execute_result"
    }
   ],
   "source": [
    "# How many KRAS/NRAS mutations in testing set\n",
    "# After removal of dual mutants\n",
    "y_test_df.sum()"
   ]
  },
  {
   "cell_type": "code",
   "execution_count": 28,
   "metadata": {},
   "outputs": [
    {
     "data": {
      "text/plain": [
       "KRAS_mut        0.2000\n",
       "NRAS_mut        0.1875\n",
       "dual_RAS_mut    0.0000\n",
       "dtype: float64"
      ]
     },
     "execution_count": 28,
     "metadata": {},
     "output_type": "execute_result"
    }
   ],
   "source": [
    "# What is the proportion of KRAS/NRAS mutations in testing set\n",
    "# After removal of dual mutants\n",
    "y_test_df.sum() / y_test_df.shape[0]"
   ]
  },
  {
   "cell_type": "code",
   "execution_count": 29,
   "metadata": {},
   "outputs": [
    {
     "data": {
      "text/plain": [
       "KRAS_mut        26\n",
       "NRAS_mut        26\n",
       "dual_RAS_mut    26\n",
       "dtype: int64"
      ]
     },
     "execution_count": 29,
     "metadata": {},
     "output_type": "execute_result"
    }
   ],
   "source": [
    "# How many KRAS/NRAS mutations in the dual set\n",
    "y_dual_df.sum()"
   ]
  },
  {
   "cell_type": "code",
   "execution_count": 30,
   "metadata": {},
   "outputs": [],
   "source": [
    "# sklearn expects a single column with classes separate 0, 1, 2\n",
    "# Set NRAS mutations equal to 2\n",
    "y_test_df.loc[y_test_df['NRAS_mut'] == 1, 'KRAS_mut'] = 2\n",
    "\n",
    "y_test_df = y_test_df.drop(['NRAS_mut', 'dual_RAS_mut'], axis='columns')\n",
    "y_test_df.columns = ['ras_status']"
   ]
  },
  {
   "cell_type": "markdown",
   "metadata": {},
   "source": [
    "## Subset and Output Testing X Matrix\n",
    "\n",
    "Because the testing set includes samples with dual Ras mutations, split it before scaling by gene. Then use the scale fit on the non-dual test set to scale the dual samples. This is done in order for the testing set to be independent from the training set, but also to not be influenced by an overabundance of dual Ras mutant samples."
   ]
  },
  {
   "cell_type": "code",
   "execution_count": 31,
   "metadata": {},
   "outputs": [
    {
     "name": "stdout",
     "output_type": "stream",
     "text": [
      "(80, 8000)\n",
      "(26, 8000)\n"
     ]
    }
   ],
   "source": [
    "# Now, process X matrix for both testing and dual sets\n",
    "x_test_df = test_df.reindex(y_test_df.index, axis='rows')\n",
    "x_dual_df = test_df.reindex(y_dual_df.index, axis='rows')\n",
    "\n",
    "# Fit the data using the testing set\n",
    "# The dual mutated samples are filtered\n",
    "fitted_scaler = MinMaxScaler().fit(x_test_df)\n",
    "\n",
    "# Transform the testing matrix with testing matrix fit\n",
    "x_test_df = pd.DataFrame(fitted_scaler.transform(x_test_df),\n",
    "                         columns=x_test_df.columns,\n",
    "                         index=x_test_df.index)\n",
    "\n",
    "# Transform the dual matrix with testing matrix fit\n",
    "x_dual_df = pd.DataFrame(fitted_scaler.transform(x_dual_df),\n",
    "                         columns=x_dual_df.columns,\n",
    "                         index=x_dual_df.index)\n",
    "print(x_test_df.shape)\n",
    "print(x_dual_df.shape)"
   ]
  },
  {
   "cell_type": "code",
   "execution_count": 32,
   "metadata": {},
   "outputs": [],
   "source": [
    "# Before writing to file, confirm that the samples are aligned in the testing set\n",
    "assert (x_test_df.index == y_test_df.index).all(), 'The samples between X and Y testing matrices are not aligned!'"
   ]
  },
  {
   "cell_type": "code",
   "execution_count": 33,
   "metadata": {},
   "outputs": [],
   "source": [
    "file = os.path.join('data', 'compass_y_test.tsv')\n",
    "y_test_df.to_csv(file, sep='\\t')"
   ]
  },
  {
   "cell_type": "code",
   "execution_count": 34,
   "metadata": {},
   "outputs": [],
   "source": [
    "file = os.path.join('data', 'compass_x_test.tsv.gz')\n",
    "x_test_df.to_csv(file, compression='gzip', sep='\\t')"
   ]
  },
  {
   "cell_type": "markdown",
   "metadata": {},
   "source": [
    "### Process and Output both X and Y Matrix for Dual Ras mutated samples"
   ]
  },
  {
   "cell_type": "code",
   "execution_count": 35,
   "metadata": {},
   "outputs": [
    {
     "name": "stdout",
     "output_type": "stream",
     "text": [
      "3.2% of the samples have mutations in both KRAS and NRAS\n"
     ]
    }
   ],
   "source": [
    "percent_dual = y_dual_df.shape[0] / (train_df.shape[0] + test_df.shape[0])\n",
    "print('{0:.1f}% of the samples have mutations in both KRAS and NRAS'.format(percent_dual * 100))"
   ]
  },
  {
   "cell_type": "code",
   "execution_count": 36,
   "metadata": {},
   "outputs": [
    {
     "data": {
      "text/html": [
       "<div>\n",
       "<style scoped>\n",
       "    .dataframe tbody tr th:only-of-type {\n",
       "        vertical-align: middle;\n",
       "    }\n",
       "\n",
       "    .dataframe tbody tr th {\n",
       "        vertical-align: top;\n",
       "    }\n",
       "\n",
       "    .dataframe thead th {\n",
       "        text-align: right;\n",
       "    }\n",
       "</style>\n",
       "<table border=\"1\" class=\"dataframe\">\n",
       "  <thead>\n",
       "    <tr style=\"text-align: right;\">\n",
       "      <th></th>\n",
       "      <th>KRAS_mut</th>\n",
       "      <th>NRAS_mut</th>\n",
       "      <th>dual_RAS_mut</th>\n",
       "    </tr>\n",
       "  </thead>\n",
       "  <tbody>\n",
       "    <tr>\n",
       "      <th>MMRF_1089_1_BM</th>\n",
       "      <td>1</td>\n",
       "      <td>1</td>\n",
       "      <td>1</td>\n",
       "    </tr>\n",
       "    <tr>\n",
       "      <th>MMRF_1129_1_BM</th>\n",
       "      <td>1</td>\n",
       "      <td>1</td>\n",
       "      <td>1</td>\n",
       "    </tr>\n",
       "    <tr>\n",
       "      <th>MMRF_1188_1_BM</th>\n",
       "      <td>1</td>\n",
       "      <td>1</td>\n",
       "      <td>1</td>\n",
       "    </tr>\n",
       "    <tr>\n",
       "      <th>MMRF_1231_1_BM</th>\n",
       "      <td>1</td>\n",
       "      <td>1</td>\n",
       "      <td>1</td>\n",
       "    </tr>\n",
       "    <tr>\n",
       "      <th>MMRF_1277_1_BM</th>\n",
       "      <td>1</td>\n",
       "      <td>1</td>\n",
       "      <td>1</td>\n",
       "    </tr>\n",
       "  </tbody>\n",
       "</table>\n",
       "</div>"
      ],
      "text/plain": [
       "                KRAS_mut  NRAS_mut  dual_RAS_mut\n",
       "MMRF_1089_1_BM         1         1             1\n",
       "MMRF_1129_1_BM         1         1             1\n",
       "MMRF_1188_1_BM         1         1             1\n",
       "MMRF_1231_1_BM         1         1             1\n",
       "MMRF_1277_1_BM         1         1             1"
      ]
     },
     "execution_count": 36,
     "metadata": {},
     "output_type": "execute_result"
    }
   ],
   "source": [
    "y_dual_df.head()"
   ]
  },
  {
   "cell_type": "code",
   "execution_count": 37,
   "metadata": {},
   "outputs": [],
   "source": [
    "# Before writing to file, confirm that the samples are aligned in the dual set\n",
    "# This does not actually matter because we will not use the dual Y matrix ever\n",
    "# The dual Y matrix is implied\n",
    "assert (x_dual_df.index == y_dual_df.index).all(), 'The samples between X and Y dual matrices are not aligned!'"
   ]
  },
  {
   "cell_type": "code",
   "execution_count": 38,
   "metadata": {},
   "outputs": [],
   "source": [
    "# Also, confirm that the dual genes are aligned to other X matrices\n",
    "assert (x_dual_df.columns == train_df.columns).all(), 'The genes between dual and other X matrices are not aligned!'"
   ]
  },
  {
   "cell_type": "code",
   "execution_count": 39,
   "metadata": {},
   "outputs": [],
   "source": [
    "file = os.path.join('data', 'compass_x_dual.tsv.gz')\n",
    "x_dual_df.to_csv(file, compression='gzip', sep='\\t')"
   ]
  },
  {
   "cell_type": "code",
   "execution_count": 40,
   "metadata": {},
   "outputs": [],
   "source": [
    "file = os.path.join('data', 'compass_y_dual.tsv')\n",
    "y_dual_df.drop('dual_RAS_mut', axis='columns').to_csv(file, sep='\\t')"
   ]
  }
 ],
 "metadata": {
  "kernelspec": {
   "display_name": "Python [conda env:multiple-myeloma-classifier]",
   "language": "python",
   "name": "conda-env-multiple-myeloma-classifier-py"
  },
  "language_info": {
   "codemirror_mode": {
    "name": "ipython",
    "version": 3
   },
   "file_extension": ".py",
   "mimetype": "text/x-python",
   "name": "python",
   "nbconvert_exporter": "python",
   "pygments_lexer": "ipython3",
   "version": "3.5.5"
  }
 },
 "nbformat": 4,
 "nbformat_minor": 2
}
