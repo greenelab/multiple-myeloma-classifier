{
 "cells": [
  {
   "cell_type": "code",
   "execution_count": 1,
   "metadata": {},
   "outputs": [],
   "source": [
    "import os\n",
    "import numpy as np\n",
    "import pandas as pd\n",
    "\n",
    "from dask_searchcv import GridSearchCV\n",
    "from sklearn.preprocessing import StandardScaler\n",
    "from sklearn.pipeline import Pipeline\n",
    "from sklearn.model_selection import train_test_split, cross_val_predict\n",
    "from sklearn.linear_model import MultiTaskElasticNet\n",
    "\n",
    "from sklearn.metrics import f1_score, make_scorer\n",
    "\n",
    "import matplotlib.pyplot as plt\n",
    "import seaborn as sns"
   ]
  },
  {
   "cell_type": "code",
   "execution_count": 2,
   "metadata": {},
   "outputs": [],
   "source": [
    "%matplotlib inline"
   ]
  },
  {
   "cell_type": "code",
   "execution_count": 3,
   "metadata": {},
   "outputs": [],
   "source": [
    "# Set constants\n",
    "alphas= [0.0001, 0.001, 0.01, 0.1, 0.2, 0.5, 1]\n",
    "#l1_mixing = [0.1, 0.15, 0.18, 0.2, 0.5, 1]"
   ]
  },
  {
   "cell_type": "code",
   "execution_count": 5,
   "metadata": {},
   "outputs": [
    {
     "name": "stdout",
     "output_type": "stream",
     "text": [
      "(706, 8000)\n"
     ]
    },
    {
     "data": {
      "text/html": [
       "<div>\n",
       "<style scoped>\n",
       "    .dataframe tbody tr th:only-of-type {\n",
       "        vertical-align: middle;\n",
       "    }\n",
       "\n",
       "    .dataframe tbody tr th {\n",
       "        vertical-align: top;\n",
       "    }\n",
       "\n",
       "    .dataframe thead th {\n",
       "        text-align: right;\n",
       "    }\n",
       "</style>\n",
       "<table border=\"1\" class=\"dataframe\">\n",
       "  <thead>\n",
       "    <tr style=\"text-align: right;\">\n",
       "      <th>GENE_ID</th>\n",
       "      <th>ENSG00000000419</th>\n",
       "      <th>ENSG00000001036</th>\n",
       "      <th>ENSG00000001167</th>\n",
       "      <th>ENSG00000001461</th>\n",
       "      <th>ENSG00000001561</th>\n",
       "      <th>ENSG00000001629</th>\n",
       "      <th>ENSG00000001630</th>\n",
       "      <th>ENSG00000001631</th>\n",
       "      <th>ENSG00000002330</th>\n",
       "      <th>ENSG00000002549</th>\n",
       "      <th>...</th>\n",
       "      <th>ENSG00000273015</th>\n",
       "      <th>ENSG00000273018</th>\n",
       "      <th>ENSG00000273047</th>\n",
       "      <th>ENSG00000273061</th>\n",
       "      <th>ENSG00000273148</th>\n",
       "      <th>ENSG00000273173</th>\n",
       "      <th>ENSG00000273271</th>\n",
       "      <th>ENSG00000273338</th>\n",
       "      <th>ENSG00000273344</th>\n",
       "      <th>ENSG00000273472</th>\n",
       "    </tr>\n",
       "  </thead>\n",
       "  <tbody>\n",
       "    <tr>\n",
       "      <th>MMRF_1021_1_BM</th>\n",
       "      <td>0.002039</td>\n",
       "      <td>0.001428</td>\n",
       "      <td>0.000656</td>\n",
       "      <td>0.001638</td>\n",
       "      <td>0.001126</td>\n",
       "      <td>0.000682</td>\n",
       "      <td>0.002040</td>\n",
       "      <td>0.000836</td>\n",
       "      <td>0.001092</td>\n",
       "      <td>0.003595</td>\n",
       "      <td>...</td>\n",
       "      <td>0.000773</td>\n",
       "      <td>0.000953</td>\n",
       "      <td>0.001499</td>\n",
       "      <td>0.000390</td>\n",
       "      <td>0.000284</td>\n",
       "      <td>0.007063</td>\n",
       "      <td>0.000252</td>\n",
       "      <td>0.005463</td>\n",
       "      <td>0.000286</td>\n",
       "      <td>0.000517</td>\n",
       "    </tr>\n",
       "    <tr>\n",
       "      <th>MMRF_1024_2_BM</th>\n",
       "      <td>0.001164</td>\n",
       "      <td>0.000949</td>\n",
       "      <td>0.000828</td>\n",
       "      <td>0.000658</td>\n",
       "      <td>0.000866</td>\n",
       "      <td>0.000776</td>\n",
       "      <td>0.001559</td>\n",
       "      <td>0.000898</td>\n",
       "      <td>0.001600</td>\n",
       "      <td>0.001572</td>\n",
       "      <td>...</td>\n",
       "      <td>0.001248</td>\n",
       "      <td>0.006047</td>\n",
       "      <td>0.000600</td>\n",
       "      <td>0.000672</td>\n",
       "      <td>0.000420</td>\n",
       "      <td>0.004150</td>\n",
       "      <td>0.000222</td>\n",
       "      <td>0.001641</td>\n",
       "      <td>0.000427</td>\n",
       "      <td>0.000931</td>\n",
       "    </tr>\n",
       "  </tbody>\n",
       "</table>\n",
       "<p>2 rows × 8000 columns</p>\n",
       "</div>"
      ],
      "text/plain": [
       "GENE_ID         ENSG00000000419  ENSG00000001036  ENSG00000001167  \\\n",
       "MMRF_1021_1_BM         0.002039         0.001428         0.000656   \n",
       "MMRF_1024_2_BM         0.001164         0.000949         0.000828   \n",
       "\n",
       "GENE_ID         ENSG00000001461  ENSG00000001561  ENSG00000001629  \\\n",
       "MMRF_1021_1_BM         0.001638         0.001126         0.000682   \n",
       "MMRF_1024_2_BM         0.000658         0.000866         0.000776   \n",
       "\n",
       "GENE_ID         ENSG00000001630  ENSG00000001631  ENSG00000002330  \\\n",
       "MMRF_1021_1_BM         0.002040         0.000836         0.001092   \n",
       "MMRF_1024_2_BM         0.001559         0.000898         0.001600   \n",
       "\n",
       "GENE_ID         ENSG00000002549       ...         ENSG00000273015  \\\n",
       "MMRF_1021_1_BM         0.003595       ...                0.000773   \n",
       "MMRF_1024_2_BM         0.001572       ...                0.001248   \n",
       "\n",
       "GENE_ID         ENSG00000273018  ENSG00000273047  ENSG00000273061  \\\n",
       "MMRF_1021_1_BM         0.000953         0.001499         0.000390   \n",
       "MMRF_1024_2_BM         0.006047         0.000600         0.000672   \n",
       "\n",
       "GENE_ID         ENSG00000273148  ENSG00000273173  ENSG00000273271  \\\n",
       "MMRF_1021_1_BM         0.000284         0.007063         0.000252   \n",
       "MMRF_1024_2_BM         0.000420         0.004150         0.000222   \n",
       "\n",
       "GENE_ID         ENSG00000273338  ENSG00000273344  ENSG00000273472  \n",
       "MMRF_1021_1_BM         0.005463         0.000286         0.000517  \n",
       "MMRF_1024_2_BM         0.001641         0.000427         0.000931  \n",
       "\n",
       "[2 rows x 8000 columns]"
      ]
     },
     "execution_count": 5,
     "metadata": {},
     "output_type": "execute_result"
    }
   ],
   "source": [
    "file = os.path.join('data', 'compass_x_train.tsv.gz')\n",
    "x_df = pd.read_table(file, index_col=0).T\n",
    "print(x_df.shape)\n",
    "x_df.head(2)"
   ]
  },
  {
   "cell_type": "code",
   "execution_count": 6,
   "metadata": {},
   "outputs": [
    {
     "name": "stdout",
     "output_type": "stream",
     "text": [
      "(706, 1)\n"
     ]
    },
    {
     "data": {
      "text/html": [
       "<div>\n",
       "<style scoped>\n",
       "    .dataframe tbody tr th:only-of-type {\n",
       "        vertical-align: middle;\n",
       "    }\n",
       "\n",
       "    .dataframe tbody tr th {\n",
       "        vertical-align: top;\n",
       "    }\n",
       "\n",
       "    .dataframe thead th {\n",
       "        text-align: right;\n",
       "    }\n",
       "</style>\n",
       "<table border=\"1\" class=\"dataframe\">\n",
       "  <thead>\n",
       "    <tr style=\"text-align: right;\">\n",
       "      <th></th>\n",
       "      <th>ras_status</th>\n",
       "    </tr>\n",
       "  </thead>\n",
       "  <tbody>\n",
       "    <tr>\n",
       "      <th>MMRF_1021_1_BM</th>\n",
       "      <td>1</td>\n",
       "    </tr>\n",
       "    <tr>\n",
       "      <th>MMRF_1024_2_BM</th>\n",
       "      <td>0</td>\n",
       "    </tr>\n",
       "  </tbody>\n",
       "</table>\n",
       "</div>"
      ],
      "text/plain": [
       "                ras_status\n",
       "MMRF_1021_1_BM           1\n",
       "MMRF_1024_2_BM           0"
      ]
     },
     "execution_count": 6,
     "metadata": {},
     "output_type": "execute_result"
    }
   ],
   "source": [
    "file = os.path.join('data', 'compass_y_train.tsv')\n",
    "y_df = pd.read_table(file, index_col=0)\n",
    "print(y_df.shape)\n",
    "y_df.head(2)"
   ]
  },
  {
   "cell_type": "code",
   "execution_count": 7,
   "metadata": {},
   "outputs": [],
   "source": [
    "weighted_f1 = make_scorer(f1_score, average='weighted')"
   ]
  },
  {
   "cell_type": "code",
   "execution_count": 16,
   "metadata": {},
   "outputs": [],
   "source": [
    "clf_parameters = {#'classify__loss': ['hinge'],\n",
    "                  #'classify__penalty': ['elasticnet'],\n",
    "                  'classify__C': alphas,\n",
    "                  'classify__penalty': ['l1', 'l2']}\n",
    "                  #'classify__max_iter': [200]}"
   ]
  },
  {
   "cell_type": "code",
   "execution_count": 17,
   "metadata": {},
   "outputs": [],
   "source": [
    "estimator = Pipeline(\n",
    "    steps=[('classify',\n",
    "            LogisticRegression(random_state=0,\n",
    "                               class_weight='balanced',\n",
    "                               multi_class='ovr',\n",
    "                               solver='saga'))]\n",
    ")\n",
    "\n",
    "cv_pipeline = GridSearchCV(estimator=estimator,\n",
    "                           param_grid=clf_parameters,\n",
    "                           n_jobs=-1,\n",
    "                           cv=4,\n",
    "                           scoring=weighted_f1)"
   ]
  },
  {
   "cell_type": "code",
   "execution_count": 18,
   "metadata": {},
   "outputs": [
    {
     "name": "stderr",
     "output_type": "stream",
     "text": [
      "/home/greg/anaconda3/envs/multiple-myeloma-classifier/lib/python3.5/site-packages/sklearn/metrics/classification.py:1135: UndefinedMetricWarning: F-score is ill-defined and being set to 0.0 in labels with no predicted samples.\n",
      "  'precision', 'predicted', average, warn_for)\n",
      "/home/greg/anaconda3/envs/multiple-myeloma-classifier/lib/python3.5/site-packages/sklearn/metrics/classification.py:1135: UndefinedMetricWarning: F-score is ill-defined and being set to 0.0 in labels with no predicted samples.\n",
      "  'precision', 'predicted', average, warn_for)\n",
      "/home/greg/anaconda3/envs/multiple-myeloma-classifier/lib/python3.5/site-packages/sklearn/metrics/classification.py:1135: UndefinedMetricWarning: F-score is ill-defined and being set to 0.0 in labels with no predicted samples.\n",
      "  'precision', 'predicted', average, warn_for)\n",
      "/home/greg/anaconda3/envs/multiple-myeloma-classifier/lib/python3.5/site-packages/sklearn/metrics/classification.py:1135: UndefinedMetricWarning: F-score is ill-defined and being set to 0.0 in labels with no predicted samples.\n",
      "  'precision', 'predicted', average, warn_for)\n",
      "/home/greg/anaconda3/envs/multiple-myeloma-classifier/lib/python3.5/site-packages/sklearn/metrics/classification.py:1135: UndefinedMetricWarning: F-score is ill-defined and being set to 0.0 in labels with no predicted samples.\n",
      "  'precision', 'predicted', average, warn_for)\n",
      "/home/greg/anaconda3/envs/multiple-myeloma-classifier/lib/python3.5/site-packages/sklearn/metrics/classification.py:1135: UndefinedMetricWarning: F-score is ill-defined and being set to 0.0 in labels with no predicted samples.\n",
      "  'precision', 'predicted', average, warn_for)\n",
      "/home/greg/anaconda3/envs/multiple-myeloma-classifier/lib/python3.5/site-packages/sklearn/metrics/classification.py:1135: UndefinedMetricWarning: F-score is ill-defined and being set to 0.0 in labels with no predicted samples.\n",
      "  'precision', 'predicted', average, warn_for)\n",
      "/home/greg/anaconda3/envs/multiple-myeloma-classifier/lib/python3.5/site-packages/sklearn/metrics/classification.py:1135: UndefinedMetricWarning: F-score is ill-defined and being set to 0.0 in labels with no predicted samples.\n",
      "  'precision', 'predicted', average, warn_for)\n",
      "/home/greg/anaconda3/envs/multiple-myeloma-classifier/lib/python3.5/site-packages/sklearn/metrics/classification.py:1135: UndefinedMetricWarning: F-score is ill-defined and being set to 0.0 in labels with no predicted samples.\n",
      "  'precision', 'predicted', average, warn_for)\n",
      "/home/greg/anaconda3/envs/multiple-myeloma-classifier/lib/python3.5/site-packages/sklearn/metrics/classification.py:1135: UndefinedMetricWarning: F-score is ill-defined and being set to 0.0 in labels with no predicted samples.\n",
      "  'precision', 'predicted', average, warn_for)\n",
      "/home/greg/anaconda3/envs/multiple-myeloma-classifier/lib/python3.5/site-packages/sklearn/metrics/classification.py:1135: UndefinedMetricWarning: F-score is ill-defined and being set to 0.0 in labels with no predicted samples.\n",
      "  'precision', 'predicted', average, warn_for)\n",
      "/home/greg/anaconda3/envs/multiple-myeloma-classifier/lib/python3.5/site-packages/sklearn/metrics/classification.py:1135: UndefinedMetricWarning: F-score is ill-defined and being set to 0.0 in labels with no predicted samples.\n",
      "  'precision', 'predicted', average, warn_for)\n",
      "/home/greg/anaconda3/envs/multiple-myeloma-classifier/lib/python3.5/site-packages/sklearn/metrics/classification.py:1135: UndefinedMetricWarning: F-score is ill-defined and being set to 0.0 in labels with no predicted samples.\n",
      "  'precision', 'predicted', average, warn_for)\n",
      "/home/greg/anaconda3/envs/multiple-myeloma-classifier/lib/python3.5/site-packages/sklearn/metrics/classification.py:1135: UndefinedMetricWarning: F-score is ill-defined and being set to 0.0 in labels with no predicted samples.\n",
      "  'precision', 'predicted', average, warn_for)\n",
      "/home/greg/anaconda3/envs/multiple-myeloma-classifier/lib/python3.5/site-packages/sklearn/metrics/classification.py:1135: UndefinedMetricWarning: F-score is ill-defined and being set to 0.0 in labels with no predicted samples.\n",
      "  'precision', 'predicted', average, warn_for)\n",
      "/home/greg/anaconda3/envs/multiple-myeloma-classifier/lib/python3.5/site-packages/sklearn/metrics/classification.py:1135: UndefinedMetricWarning: F-score is ill-defined and being set to 0.0 in labels with no predicted samples.\n",
      "  'precision', 'predicted', average, warn_for)\n",
      "/home/greg/anaconda3/envs/multiple-myeloma-classifier/lib/python3.5/site-packages/sklearn/metrics/classification.py:1135: UndefinedMetricWarning: F-score is ill-defined and being set to 0.0 in labels with no predicted samples.\n",
      "  'precision', 'predicted', average, warn_for)\n",
      "/home/greg/anaconda3/envs/multiple-myeloma-classifier/lib/python3.5/site-packages/sklearn/linear_model/sag.py:326: ConvergenceWarning: The max_iter was reached which means the coef_ did not converge\n",
      "  \"the coef_ did not converge\", ConvergenceWarning)\n",
      "/home/greg/anaconda3/envs/multiple-myeloma-classifier/lib/python3.5/site-packages/sklearn/linear_model/sag.py:326: ConvergenceWarning: The max_iter was reached which means the coef_ did not converge\n",
      "  \"the coef_ did not converge\", ConvergenceWarning)\n",
      "/home/greg/anaconda3/envs/multiple-myeloma-classifier/lib/python3.5/site-packages/sklearn/linear_model/sag.py:326: ConvergenceWarning: The max_iter was reached which means the coef_ did not converge\n",
      "  \"the coef_ did not converge\", ConvergenceWarning)\n",
      "/home/greg/anaconda3/envs/multiple-myeloma-classifier/lib/python3.5/site-packages/sklearn/linear_model/sag.py:326: ConvergenceWarning: The max_iter was reached which means the coef_ did not converge\n",
      "  \"the coef_ did not converge\", ConvergenceWarning)\n",
      "/home/greg/anaconda3/envs/multiple-myeloma-classifier/lib/python3.5/site-packages/sklearn/linear_model/sag.py:326: ConvergenceWarning: The max_iter was reached which means the coef_ did not converge\n",
      "  \"the coef_ did not converge\", ConvergenceWarning)\n",
      "/home/greg/anaconda3/envs/multiple-myeloma-classifier/lib/python3.5/site-packages/sklearn/linear_model/sag.py:326: ConvergenceWarning: The max_iter was reached which means the coef_ did not converge\n",
      "  \"the coef_ did not converge\", ConvergenceWarning)\n"
     ]
    },
    {
     "data": {
      "text/plain": [
       "GridSearchCV(cache_cv=True, cv=4, error_score='raise',\n",
       "       estimator=Pipeline(memory=None,\n",
       "     steps=[('classify', LogisticRegression(C=1.0, class_weight='balanced', dual=False,\n",
       "          fit_intercept=True, intercept_scaling=1, max_iter=100,\n",
       "          multi_class='ovr', n_jobs=1, penalty='l2', random_state=0,\n",
       "          solver='saga', tol=0.0001, verbose=0, warm_start=False))]),\n",
       "       iid=True, n_jobs=-1,\n",
       "       param_grid={'classify__penalty': ['l1', 'l2'], 'classify__C': [0.0001, 0.001, 0.01, 0.1, 0.2, 0.5, 1]},\n",
       "       refit=True, return_train_score='warn', scheduler=None,\n",
       "       scoring=make_scorer(f1_score, average=weighted))"
      ]
     },
     "execution_count": 18,
     "metadata": {},
     "output_type": "execute_result"
    }
   ],
   "source": [
    "cv_pipeline.fit(X=x_df, y=y_df.ras_status)"
   ]
  },
  {
   "cell_type": "code",
   "execution_count": 19,
   "metadata": {},
   "outputs": [
    {
     "name": "stderr",
     "output_type": "stream",
     "text": [
      "/home/greg/anaconda3/envs/multiple-myeloma-classifier/lib/python3.5/site-packages/sklearn/utils/deprecation.py:122: FutureWarning: You are accessing a training score ('mean_train_score'), which will not be available by default any more in sklearn 0.21. If you need training scores, please set return_train_score=True\n",
      "  warnings.warn(*warn_args, **warn_kwargs)\n",
      "/home/greg/anaconda3/envs/multiple-myeloma-classifier/lib/python3.5/site-packages/sklearn/utils/deprecation.py:122: FutureWarning: You are accessing a training score ('split0_train_score'), which will not be available by default any more in sklearn 0.21. If you need training scores, please set return_train_score=True\n",
      "  warnings.warn(*warn_args, **warn_kwargs)\n",
      "/home/greg/anaconda3/envs/multiple-myeloma-classifier/lib/python3.5/site-packages/sklearn/utils/deprecation.py:122: FutureWarning: You are accessing a training score ('split1_train_score'), which will not be available by default any more in sklearn 0.21. If you need training scores, please set return_train_score=True\n",
      "  warnings.warn(*warn_args, **warn_kwargs)\n",
      "/home/greg/anaconda3/envs/multiple-myeloma-classifier/lib/python3.5/site-packages/sklearn/utils/deprecation.py:122: FutureWarning: You are accessing a training score ('split2_train_score'), which will not be available by default any more in sklearn 0.21. If you need training scores, please set return_train_score=True\n",
      "  warnings.warn(*warn_args, **warn_kwargs)\n",
      "/home/greg/anaconda3/envs/multiple-myeloma-classifier/lib/python3.5/site-packages/sklearn/utils/deprecation.py:122: FutureWarning: You are accessing a training score ('split3_train_score'), which will not be available by default any more in sklearn 0.21. If you need training scores, please set return_train_score=True\n",
      "  warnings.warn(*warn_args, **warn_kwargs)\n",
      "/home/greg/anaconda3/envs/multiple-myeloma-classifier/lib/python3.5/site-packages/sklearn/utils/deprecation.py:122: FutureWarning: You are accessing a training score ('std_train_score'), which will not be available by default any more in sklearn 0.21. If you need training scores, please set return_train_score=True\n",
      "  warnings.warn(*warn_args, **warn_kwargs)\n"
     ]
    }
   ],
   "source": [
    "cv_results = pd.concat([pd.DataFrame(cv_pipeline.cv_results_)\n",
    "                          .drop('params', axis=1),\n",
    "                        pd.DataFrame.from_records(cv_pipeline\n",
    "                                                  .cv_results_['params'])],\n",
    "                       axis=1)"
   ]
  },
  {
   "cell_type": "code",
   "execution_count": 21,
   "metadata": {},
   "outputs": [
    {
     "data": {
      "text/html": [
       "<div>\n",
       "<style scoped>\n",
       "    .dataframe tbody tr th:only-of-type {\n",
       "        vertical-align: middle;\n",
       "    }\n",
       "\n",
       "    .dataframe tbody tr th {\n",
       "        vertical-align: top;\n",
       "    }\n",
       "\n",
       "    .dataframe thead th {\n",
       "        text-align: right;\n",
       "    }\n",
       "</style>\n",
       "<table border=\"1\" class=\"dataframe\">\n",
       "  <thead>\n",
       "    <tr style=\"text-align: right;\">\n",
       "      <th></th>\n",
       "      <th>wildtype</th>\n",
       "      <th>KRAS</th>\n",
       "      <th>NRAS</th>\n",
       "    </tr>\n",
       "    <tr>\n",
       "      <th>GENE_ID</th>\n",
       "      <th></th>\n",
       "      <th></th>\n",
       "      <th></th>\n",
       "    </tr>\n",
       "  </thead>\n",
       "  <tbody>\n",
       "    <tr>\n",
       "      <th>ENSG00000000419</th>\n",
       "      <td>-0.010035</td>\n",
       "      <td>0.020773</td>\n",
       "      <td>-0.007901</td>\n",
       "    </tr>\n",
       "    <tr>\n",
       "      <th>ENSG00000001036</th>\n",
       "      <td>-0.013213</td>\n",
       "      <td>0.030965</td>\n",
       "      <td>-0.010312</td>\n",
       "    </tr>\n",
       "    <tr>\n",
       "      <th>ENSG00000001167</th>\n",
       "      <td>0.002005</td>\n",
       "      <td>-0.002128</td>\n",
       "      <td>-0.000404</td>\n",
       "    </tr>\n",
       "    <tr>\n",
       "      <th>ENSG00000001461</th>\n",
       "      <td>0.004910</td>\n",
       "      <td>0.001132</td>\n",
       "      <td>-0.008109</td>\n",
       "    </tr>\n",
       "    <tr>\n",
       "      <th>ENSG00000001561</th>\n",
       "      <td>0.010411</td>\n",
       "      <td>-0.005830</td>\n",
       "      <td>-0.010317</td>\n",
       "    </tr>\n",
       "  </tbody>\n",
       "</table>\n",
       "</div>"
      ],
      "text/plain": [
       "                 wildtype      KRAS      NRAS\n",
       "GENE_ID                                      \n",
       "ENSG00000000419 -0.010035  0.020773 -0.007901\n",
       "ENSG00000001036 -0.013213  0.030965 -0.010312\n",
       "ENSG00000001167  0.002005 -0.002128 -0.000404\n",
       "ENSG00000001461  0.004910  0.001132 -0.008109\n",
       "ENSG00000001561  0.010411 -0.005830 -0.010317"
      ]
     },
     "execution_count": 21,
     "metadata": {},
     "output_type": "execute_result"
    }
   ],
   "source": [
    "a = pd.DataFrame(cv_pipeline.best_estimator_.named_steps['classify'].coef_).T\n",
    "a.columns = ['wildtype', 'KRAS', 'NRAS']\n",
    "a.index = x_df.columns\n",
    "a.head()"
   ]
  },
  {
   "cell_type": "code",
   "execution_count": 23,
   "metadata": {},
   "outputs": [
    {
     "data": {
      "image/png": "[encoded data removed]",
      "text/plain": [
       "<Figure size 432x288 with 2 Axes>"
      ]
     },
     "metadata": {},
     "output_type": "display_data"
    }
   ],
   "source": [
    "# Cross-validated performance heatmap\n",
    "cv_score_mat = pd.pivot_table(cv_results, values='mean_test_score',\n",
    "                              index='classify__penalty',\n",
    "                              columns='classify__C')\n",
    "ax = sns.heatmap(cv_score_mat, annot=True, fmt='.1%')\n",
    "ax.set_xlabel('Regularization strength multiplier (alpha)')\n",
    "ax.set_ylabel('Elastic net mixing parameter (l1_ratio)')\n",
    "plt.tight_layout()"
   ]
  },
  {
   "cell_type": "code",
   "execution_count": null,
   "metadata": {},
   "outputs": [],
   "source": []
  }
 ],
 "metadata": {
  "kernelspec": {
   "display_name": "Python [conda env:multiple-myeloma-classifier]",
   "language": "python",
   "name": "conda-env-multiple-myeloma-classifier-py"
  },
  "language_info": {
   "codemirror_mode": {
    "name": "ipython",
    "version": 3
   },
   "file_extension": ".py",
   "mimetype": "text/x-python",
   "name": "python",
   "nbconvert_exporter": "python",
   "pygments_lexer": "ipython3",
   "version": "3.5.5"
  }
 },
 "nbformat": 4,
 "nbformat_minor": 2
}
